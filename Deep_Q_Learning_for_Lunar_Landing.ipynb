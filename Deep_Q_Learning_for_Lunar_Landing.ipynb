{
  "cells": [
    {
      "cell_type": "markdown",
      "metadata": {
        "id": "view-in-github",
        "colab_type": "text"
      },
      "source": [
        "<a href=\"https://colab.research.google.com/github/sayantann7/deepq-lunar-landing/blob/main/Deep_Q_Learning_for_Lunar_Landing.ipynb\" target=\"_parent\"><img src=\"https://colab.research.google.com/assets/colab-badge.svg\" alt=\"Open In Colab\"/></a>"
      ]
    },
    {
      "cell_type": "markdown",
      "metadata": {
        "id": "LbZcI9ZXHl3a"
      },
      "source": [
        "# Deep Q-Learning for Lunar Landing"
      ]
    },
    {
      "cell_type": "markdown",
      "metadata": {
        "id": "E8yPRjteXgPb"
      },
      "source": [
        "## Part 0 - Installing the required packages and importing the libraries"
      ]
    },
    {
      "cell_type": "markdown",
      "metadata": {
        "id": "slEm5teGWjWU"
      },
      "source": [
        "### Installing Gymnasium"
      ]
    },
    {
      "cell_type": "code",
      "execution_count": 1,
      "metadata": {
        "id": "dbnq3XpoKa_7",
        "colab": {
          "base_uri": "https://localhost:8080/"
        },
        "outputId": "c543e77a-dc31-4bf8-8752-5fa97c598ad9"
      },
      "outputs": [
        {
          "output_type": "stream",
          "name": "stdout",
          "text": [
            "Requirement already satisfied: gymnasium in /usr/local/lib/python3.11/dist-packages (1.0.0)\n",
            "Requirement already satisfied: numpy>=1.21.0 in /usr/local/lib/python3.11/dist-packages (from gymnasium) (1.26.4)\n",
            "Requirement already satisfied: cloudpickle>=1.2.0 in /usr/local/lib/python3.11/dist-packages (from gymnasium) (3.1.1)\n",
            "Requirement already satisfied: typing-extensions>=4.3.0 in /usr/local/lib/python3.11/dist-packages (from gymnasium) (4.12.2)\n",
            "Requirement already satisfied: farama-notifications>=0.0.1 in /usr/local/lib/python3.11/dist-packages (from gymnasium) (0.0.4)\n",
            "Requirement already satisfied: gymnasium[accept-rom-license,atari] in /usr/local/lib/python3.11/dist-packages (1.0.0)\n",
            "\u001b[33mWARNING: gymnasium 1.0.0 does not provide the extra 'accept-rom-license'\u001b[0m\u001b[33m\n",
            "\u001b[0mRequirement already satisfied: numpy>=1.21.0 in /usr/local/lib/python3.11/dist-packages (from gymnasium[accept-rom-license,atari]) (1.26.4)\n",
            "Requirement already satisfied: cloudpickle>=1.2.0 in /usr/local/lib/python3.11/dist-packages (from gymnasium[accept-rom-license,atari]) (3.1.1)\n",
            "Requirement already satisfied: typing-extensions>=4.3.0 in /usr/local/lib/python3.11/dist-packages (from gymnasium[accept-rom-license,atari]) (4.12.2)\n",
            "Requirement already satisfied: farama-notifications>=0.0.1 in /usr/local/lib/python3.11/dist-packages (from gymnasium[accept-rom-license,atari]) (0.0.4)\n",
            "Requirement already satisfied: ale-py>=0.9 in /usr/local/lib/python3.11/dist-packages (from gymnasium[accept-rom-license,atari]) (0.10.1)\n",
            "Reading package lists... Done\n",
            "Building dependency tree... Done\n",
            "Reading state information... Done\n",
            "The following additional packages will be installed:\n",
            "  swig4.0\n",
            "Suggested packages:\n",
            "  swig-doc swig-examples swig4.0-examples swig4.0-doc\n",
            "The following NEW packages will be installed:\n",
            "  swig swig4.0\n",
            "0 upgraded, 2 newly installed, 0 to remove and 20 not upgraded.\n",
            "Need to get 1,116 kB of archives.\n",
            "After this operation, 5,542 kB of additional disk space will be used.\n",
            "Get:1 http://archive.ubuntu.com/ubuntu jammy/universe amd64 swig4.0 amd64 4.0.2-1ubuntu1 [1,110 kB]\n",
            "Get:2 http://archive.ubuntu.com/ubuntu jammy/universe amd64 swig all 4.0.2-1ubuntu1 [5,632 B]\n",
            "Fetched 1,116 kB in 1s (744 kB/s)\n",
            "Selecting previously unselected package swig4.0.\n",
            "(Reading database ... 124926 files and directories currently installed.)\n",
            "Preparing to unpack .../swig4.0_4.0.2-1ubuntu1_amd64.deb ...\n",
            "Unpacking swig4.0 (4.0.2-1ubuntu1) ...\n",
            "Selecting previously unselected package swig.\n",
            "Preparing to unpack .../swig_4.0.2-1ubuntu1_all.deb ...\n",
            "Unpacking swig (4.0.2-1ubuntu1) ...\n",
            "Setting up swig4.0 (4.0.2-1ubuntu1) ...\n",
            "Setting up swig (4.0.2-1ubuntu1) ...\n",
            "Processing triggers for man-db (2.10.2-1) ...\n",
            "Requirement already satisfied: gymnasium[box2d] in /usr/local/lib/python3.11/dist-packages (1.0.0)\n",
            "Requirement already satisfied: numpy>=1.21.0 in /usr/local/lib/python3.11/dist-packages (from gymnasium[box2d]) (1.26.4)\n",
            "Requirement already satisfied: cloudpickle>=1.2.0 in /usr/local/lib/python3.11/dist-packages (from gymnasium[box2d]) (3.1.1)\n",
            "Requirement already satisfied: typing-extensions>=4.3.0 in /usr/local/lib/python3.11/dist-packages (from gymnasium[box2d]) (4.12.2)\n",
            "Requirement already satisfied: farama-notifications>=0.0.1 in /usr/local/lib/python3.11/dist-packages (from gymnasium[box2d]) (0.0.4)\n",
            "Collecting box2d-py==2.3.5 (from gymnasium[box2d])\n",
            "  Downloading box2d-py-2.3.5.tar.gz (374 kB)\n",
            "\u001b[2K     \u001b[90m━━━━━━━━━━━━━━━━━━━━━━━━━━━━━━━━━━━━━━━━\u001b[0m \u001b[32m374.4/374.4 kB\u001b[0m \u001b[31m10.3 MB/s\u001b[0m eta \u001b[36m0:00:00\u001b[0m\n",
            "\u001b[?25h  Preparing metadata (setup.py) ... \u001b[?25l\u001b[?25hdone\n",
            "Requirement already satisfied: pygame>=2.1.3 in /usr/local/lib/python3.11/dist-packages (from gymnasium[box2d]) (2.6.1)\n",
            "Collecting swig==4.* (from gymnasium[box2d])\n",
            "  Downloading swig-4.3.0-py2.py3-none-manylinux_2_5_x86_64.manylinux1_x86_64.whl.metadata (3.5 kB)\n",
            "Downloading swig-4.3.0-py2.py3-none-manylinux_2_5_x86_64.manylinux1_x86_64.whl (1.9 MB)\n",
            "\u001b[2K   \u001b[90m━━━━━━━━━━━━━━━━━━━━━━━━━━━━━━━━━━━━━━━━\u001b[0m \u001b[32m1.9/1.9 MB\u001b[0m \u001b[31m65.7 MB/s\u001b[0m eta \u001b[36m0:00:00\u001b[0m\n",
            "\u001b[?25hBuilding wheels for collected packages: box2d-py\n",
            "  Building wheel for box2d-py (setup.py) ... \u001b[?25l\u001b[?25hdone\n",
            "  Created wheel for box2d-py: filename=box2d_py-2.3.5-cp311-cp311-linux_x86_64.whl size=2351171 sha256=becdbbd9fa7655b5ee8d7b6308de7ab36faf4248fa3bedbe40c79bbc58ffd217\n",
            "  Stored in directory: /root/.cache/pip/wheels/ab/f1/0c/d56f4a2bdd12bae0a0693ec33f2f0daadb5eb9753c78fa5308\n",
            "Successfully built box2d-py\n",
            "Installing collected packages: swig, box2d-py\n",
            "Successfully installed box2d-py-2.3.5 swig-4.3.0\n"
          ]
        }
      ],
      "source": [
        "!pip install gymnasium\n",
        "!pip install \"gymnasium[atari, accept-rom-license]\"\n",
        "!apt-get install -y swig\n",
        "!pip install gymnasium[box2d]"
      ]
    },
    {
      "cell_type": "markdown",
      "metadata": {
        "id": "brqiMN3UW9T9"
      },
      "source": [
        "### Importing the libraries"
      ]
    },
    {
      "cell_type": "code",
      "execution_count": 2,
      "metadata": {
        "id": "mZaKXP_aMl9O"
      },
      "outputs": [],
      "source": [
        "import os\n",
        "import random\n",
        "import numpy as np\n",
        "import torch\n",
        "import torch.nn as nn\n",
        "import torch.optim as optim\n",
        "import torch.nn.functional as F\n",
        "import torch.autograd as autograd\n",
        "from torch.autograd import Variable\n",
        "from collections import deque, namedtuple"
      ]
    },
    {
      "cell_type": "markdown",
      "metadata": {
        "id": "EzlDKXvkXzGI"
      },
      "source": [
        "## Part 1 - Building the AI"
      ]
    },
    {
      "cell_type": "markdown",
      "metadata": {
        "id": "UtG6Zc83YYy3"
      },
      "source": [
        "### Creating the architecture of the Neural Network"
      ]
    },
    {
      "cell_type": "code",
      "source": [
        "class Network(nn.Module):\n",
        "\n",
        "  def __init__(self, state_size, action_size, seed = 42):\n",
        "    super(Network, self).__init__()\n",
        "    self.seed = torch.manual_seed(seed)\n",
        "    self.fc1 = nn.Linear(state_size, 64)\n",
        "    self.fc2 = nn.Linear(64, 64)\n",
        "    self.fc3 = nn.Linear(64, action_size)\n",
        "\n",
        "  def forward(self, state):\n",
        "    x = self.fc1(state)\n",
        "    x = F.relu(x)\n",
        "    x = self.fc2(x)\n",
        "    x = F.relu(x)\n",
        "    return self.fc3(x)"
      ],
      "metadata": {
        "id": "h9oUxasLEJx9"
      },
      "execution_count": 3,
      "outputs": []
    },
    {
      "cell_type": "markdown",
      "metadata": {
        "id": "UxVrBnFWZKb1"
      },
      "source": [
        "## Part 2 - Training the AI"
      ]
    },
    {
      "cell_type": "markdown",
      "metadata": {
        "id": "T364fz9qZb2j"
      },
      "source": [
        "### Setting up the environment"
      ]
    },
    {
      "cell_type": "code",
      "source": [
        "import gymnasium as gym\n",
        "env = gym.make('LunarLander-v3')\n",
        "state_shape = env.observation_space.shape\n",
        "state_size = env.observation_space.shape[0]\n",
        "number_actions = env.action_space.n\n",
        "print('State shape: ', state_shape)\n",
        "print('State size: ', state_size)\n",
        "print('Number of actions: ', number_actions)"
      ],
      "metadata": {
        "colab": {
          "base_uri": "https://localhost:8080/"
        },
        "id": "NUWiCFWySXIh",
        "outputId": "2e61eb06-6f2b-4f19-974a-46d343239b5c"
      },
      "execution_count": 5,
      "outputs": [
        {
          "output_type": "stream",
          "name": "stdout",
          "text": [
            "State shape:  (8,)\n",
            "State size:  8\n",
            "Number of actions:  4\n"
          ]
        }
      ]
    },
    {
      "cell_type": "markdown",
      "metadata": {
        "id": "c_dZmOIvZgj-"
      },
      "source": [
        "### Initializing the hyperparameters"
      ]
    },
    {
      "cell_type": "code",
      "source": [
        "learning_rate = 5e-4\n",
        "minibatch_size = 100\n",
        "discount_factor = 0.99\n",
        "replay_buffer_size = int(1e5)\n",
        "interpolation_parameter = 1e-3"
      ],
      "metadata": {
        "id": "bNKnUzj1Oqz8"
      },
      "execution_count": 6,
      "outputs": []
    },
    {
      "cell_type": "markdown",
      "metadata": {
        "id": "8hD_Vs-bYnip"
      },
      "source": [
        "### Implementing Experience Replay"
      ]
    },
    {
      "cell_type": "code",
      "source": [
        "class ReplayMemory(object):\n",
        "\n",
        "  def __init__(self, capacity):\n",
        "    self.device = torch.device(\"cuda:0\" if torch.cuda.is_available() else \"cpu\")\n",
        "    self.capacity = capacity\n",
        "    self.memory = []\n",
        "\n",
        "  def push(self, event):\n",
        "    self.memory.append(event)\n",
        "    if len(self.memory) > self.capacity:\n",
        "      del self.memory[0]\n",
        "\n",
        "  def sample(self, batch_size):\n",
        "    experiences = random.sample(self.memory, k = batch_size)\n",
        "    states = torch.from_numpy(np.vstack([e[0] for e in experiences if e is not None])).float().to(self.device)\n",
        "    actions = torch.from_numpy(np.vstack([e[1] for e in experiences if e is not None])).long().to(self.device)\n",
        "    rewards = torch.from_numpy(np.vstack([e[2] for e in experiences if e is not None])).float().to(self.device)\n",
        "    next_states = torch.from_numpy(np.vstack([e[3] for e in experiences if e is not None])).float().to(self.device)\n",
        "    dones = torch.from_numpy(np.vstack([e[4] for e in experiences if e is not None]).astype(np.uint8)).float().to(self.device)\n",
        "    return states, next_states, actions, rewards, dones"
      ],
      "metadata": {
        "id": "QaEChoj_uRoe"
      },
      "execution_count": 7,
      "outputs": []
    },
    {
      "cell_type": "markdown",
      "metadata": {
        "id": "JmEkbFbUY6Jt"
      },
      "source": [
        "### Implementing the DQN class"
      ]
    },
    {
      "cell_type": "code",
      "source": [
        "class Agent():\n",
        "\n",
        "  def __init__(self, state_size, action_size):\n",
        "    self.device = torch.device(\"cuda:0\" if torch.cuda.is_available() else \"cpu\")\n",
        "    self.state_size = state_size\n",
        "    self.action_size = action_size\n",
        "    self.local_qnetwork = Network(state_size, action_size).to(self.device)\n",
        "    self.target_qnetwork = Network(state_size, action_size).to(self.device)\n",
        "    self.optimizer = optim.Adam(self.local_qnetwork.parameters(), lr = learning_rate)\n",
        "    self.memory = ReplayMemory(replay_buffer_size)\n",
        "    self.t_step = 0\n",
        "\n",
        "  def step(self, state, action, reward, next_state, done):\n",
        "    self.memory.push((state, action, reward, next_state, done))\n",
        "    self.t_step = (self.t_step + 1) % 4\n",
        "    if self.t_step == 0:\n",
        "      if len(self.memory.memory) > minibatch_size:\n",
        "        experiences = self.memory.sample(100)\n",
        "        self.learn(experiences, discount_factor)\n",
        "\n",
        "  def act(self, state, epsilon = 0.):\n",
        "    state = torch.from_numpy(state).float().unsqueeze(0).to(self.device)\n",
        "    self.local_qnetwork.eval()\n",
        "    with torch.no_grad():\n",
        "      action_values = self.local_qnetwork(state)\n",
        "    self.local_qnetwork.train()\n",
        "    if random.random() > epsilon:\n",
        "      return np.argmax(action_values.cpu().data.numpy())\n",
        "    else:\n",
        "      return random.choice(np.arange(self.action_size))\n",
        "\n",
        "  def learn(self, experiences, discount_factor):\n",
        "    states, next_states, actions, rewards, dones = experiences\n",
        "    next_q_targets = self.target_qnetwork(next_states).detach().max(1)[0].unsqueeze(1)\n",
        "    q_targets = rewards + discount_factor * next_q_targets * (1 - dones)\n",
        "    q_expected = self.local_qnetwork(states).gather(1, actions)\n",
        "    loss = F.mse_loss(q_expected, q_targets)\n",
        "    self.optimizer.zero_grad()\n",
        "    loss.backward()\n",
        "    self.optimizer.step()\n",
        "    self.soft_update(self.local_qnetwork, self.target_qnetwork, interpolation_parameter)\n",
        "\n",
        "  def soft_update(self, local_model, target_model, interpolation_parameter):\n",
        "    for target_param, local_param in zip(target_model.parameters(), local_model.parameters()):\n",
        "      target_param.data.copy_(interpolation_parameter * local_param.data + (1.0 - interpolation_parameter) * target_param.data)"
      ],
      "metadata": {
        "id": "iokmjTKJ9E3U"
      },
      "execution_count": 8,
      "outputs": []
    },
    {
      "cell_type": "markdown",
      "metadata": {
        "id": "o1tZElccZmf6"
      },
      "source": [
        "### Initializing the DQN agent"
      ]
    },
    {
      "cell_type": "code",
      "source": [
        "agent = Agent(state_size, number_actions)"
      ],
      "metadata": {
        "id": "cGbpJJvLjmIw"
      },
      "execution_count": 9,
      "outputs": []
    },
    {
      "cell_type": "markdown",
      "metadata": {
        "id": "E8v0PtUfaVQp"
      },
      "source": [
        "### Training the DQN agent"
      ]
    },
    {
      "cell_type": "code",
      "source": [
        "number_episodes = 2000\n",
        "maximum_number_timesteps_per_episode = 1000\n",
        "epsilon_starting_value  = 1.0\n",
        "epsilon_ending_value  = 0.01\n",
        "epsilon_decay_value  = 0.995\n",
        "epsilon = epsilon_starting_value\n",
        "scores_on_100_episodes = deque(maxlen = 100)\n",
        "\n",
        "for episode in range(1, number_episodes + 1):\n",
        "  state, _ = env.reset()\n",
        "  score = 0\n",
        "  for t in range(maximum_number_timesteps_per_episode):\n",
        "    action = agent.act(state, epsilon)\n",
        "    next_state, reward, done, _, _ = env.step(action)\n",
        "    agent.step(state, action, reward, next_state, done)\n",
        "    state = next_state\n",
        "    score += reward\n",
        "    if done:\n",
        "      break\n",
        "  scores_on_100_episodes.append(score)\n",
        "  epsilon = max(epsilon_ending_value, epsilon_decay_value * epsilon)\n",
        "  print('\\rEpisode {}\\tAverage Score: {:.2f}'.format(episode, np.mean(scores_on_100_episodes)), end = \"\")\n",
        "  if episode % 100 == 0:\n",
        "    print('\\rEpisode {}\\tAverage Score: {:.2f}'.format(episode, np.mean(scores_on_100_episodes)))\n",
        "  if np.mean(scores_on_100_episodes) >= 200.0:\n",
        "    print('\\nEnvironment solved in {:d} episodes!\\tAverage Score: {:.2f}'.format(episode - 100, np.mean(scores_on_100_episodes)))\n",
        "    torch.save(agent.local_qnetwork.state_dict(), 'checkpoint.pth')\n",
        "    break"
      ],
      "metadata": {
        "colab": {
          "base_uri": "https://localhost:8080/"
        },
        "id": "2ybZW6Im-Bwj",
        "outputId": "2d0badbf-0208-4d69-dd23-65deaeef33a0"
      },
      "execution_count": 19,
      "outputs": [
        {
          "output_type": "stream",
          "name": "stdout",
          "text": [
            "Episode 100\tAverage Score: -98.87\n",
            "Episode 200\tAverage Score: -12.26\n",
            "Episode 300\tAverage Score: 84.09\n",
            "Episode 400\tAverage Score: 193.28\n",
            "Episode 407\tAverage Score: 200.59\n",
            "Environment solved in 307 episodes!\tAverage Score: 200.59\n"
          ]
        }
      ]
    },
    {
      "cell_type": "markdown",
      "metadata": {
        "id": "O8CNwdOTcCoP"
      },
      "source": [
        "## Part 3 - Visualizing the results"
      ]
    },
    {
      "cell_type": "code",
      "execution_count": 20,
      "metadata": {
        "id": "cb9nVvU2Okhk",
        "colab": {
          "base_uri": "https://localhost:8080/",
          "height": 459
        },
        "outputId": "3dc776f9-935d-4bbf-a629-3b35923e1e6d"
      },
      "outputs": [
        {
          "output_type": "stream",
          "name": "stderr",
          "text": [
            "WARNING:imageio_ffmpeg:IMAGEIO FFMPEG_WRITER WARNING: input image is not divisible by macro_block_size=16, resizing from (600, 400) to (608, 400) to ensure video compatibility with most codecs and players. To prevent resizing, make your input image divisible by the macro_block_size or set the macro_block_size to 1 (risking incompatibility).\n"
          ]
        },
        {
          "output_type": "display_data",
          "data": {
            "text/plain": [
              "<IPython.core.display.HTML object>"
            ],
            "text/html": [
              "<video alt=\"test\" autoplay\n",
              "                loop controls style=\"height: 400px;\">\n",
              "                <source src=\"data:video/mp4;base64,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\" type=\"video/mp4\" />\n",
              "             </video>"
            ]
          },
          "metadata": {}
        }
      ],
      "source": [
        "import glob\n",
        "import io\n",
        "import base64\n",
        "import imageio\n",
        "from IPython.display import HTML, display\n",
        "from gym.wrappers.monitoring.video_recorder import VideoRecorder\n",
        "\n",
        "def show_video_of_model(agent, env_name):\n",
        "    env = gym.make(env_name, render_mode='rgb_array')\n",
        "    state, _ = env.reset()\n",
        "    done = False\n",
        "    frames = []\n",
        "    while not done:\n",
        "        frame = env.render()\n",
        "        frames.append(frame)\n",
        "        action = agent.act(state)\n",
        "        state, reward, done, _, _ = env.step(action.item())\n",
        "    env.close()\n",
        "    imageio.mimsave('video.mp4', frames, fps=30)\n",
        "\n",
        "show_video_of_model(agent, 'LunarLander-v3')\n",
        "\n",
        "def show_video():\n",
        "    mp4list = glob.glob('*.mp4')\n",
        "    if len(mp4list) > 0:\n",
        "        mp4 = mp4list[0]\n",
        "        video = io.open(mp4, 'r+b').read()\n",
        "        encoded = base64.b64encode(video)\n",
        "        display(HTML(data='''<video alt=\"test\" autoplay\n",
        "                loop controls style=\"height: 400px;\">\n",
        "                <source src=\"data:video/mp4;base64,{0}\" type=\"video/mp4\" />\n",
        "             </video>'''.format(encoded.decode('ascii'))))\n",
        "    else:\n",
        "        print(\"Could not find video\")\n",
        "\n",
        "show_video()"
      ]
    }
  ],
  "metadata": {
    "colab": {
      "provenance": [],
      "gpuType": "T4",
      "include_colab_link": true
    },
    "kernelspec": {
      "display_name": "Python 3",
      "name": "python3"
    },
    "language_info": {
      "name": "python"
    },
    "accelerator": "GPU"
  },
  "nbformat": 4,
  "nbformat_minor": 0
}